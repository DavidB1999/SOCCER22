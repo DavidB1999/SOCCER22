{
 "cells": [
  {
   "cell_type": "code",
   "execution_count": null,
   "id": "127eb58b",
   "metadata": {},
   "outputs": [],
   "source": [
    "import csv\n",
    "import os\n",
    "import pickle\n",
    "\n",
    "#import the datasets\n",
    "with open(\"Pickles/Datasets.pkl\", \"rb\") as l:\n",
    "    datasets = pickle.load(l)\n",
    "\n",
    "\n",
    "\n",
    "\n",
    "game_data = (r'game_data')\n",
    "\n",
    "\n",
    "for dir in os.listdir(game_data): \n",
    "    loc = os.path.join(game_data, dir)\n",
    "    #os.chdir(loc)                                        # setting the working directory to data folder causes chaos with checkpoints\n",
    "    for file in os.listdir(loc):\n",
    "        if file.endswith(\"postprocessed.csv\"):            # only the preprocess files\n",
    "            sucA = []\n",
    "            sucB = []\n",
    "            offset = 0\n",
    "            with open(os.path.join(loc,file), 'r') as f:     # open each file\n",
    "                reader = csv.reader(f, delimiter = ',')      # read the file\n",
    "                with open(os.path.join(loc,'zero_'+ file), 'a+') as new_csv:  # open new csv\n",
    "                    writer = csv.writer(new_csv)             # write in that new csv\n",
    "                    for row in reader:\n",
    "                        if row != []:                        # for every row in file (reader) that is not empty\n",
    "                            if float(row[3]) < 0:                   # if success score < 0 we set it to 0\n",
    "                                row[3] = 0\n",
    "                            if float(row[-1]) < 0:\n",
    "                                row[-1] = 0 \n",
    "                        writer.writerow(row)                 # and write that row\n",
    "    \n",
    "            \n",
    "        \n",
    "                                                 "
   ]
  },
  {
   "cell_type": "code",
   "execution_count": null,
   "id": "b436d5ab",
   "metadata": {},
   "outputs": [],
   "source": []
  }
 ],
 "metadata": {
  "kernelspec": {
   "display_name": "Python 3 (ipykernel)",
   "language": "python",
   "name": "python3"
  },
  "language_info": {
   "codemirror_mode": {
    "name": "ipython",
    "version": 3
   },
   "file_extension": ".py",
   "mimetype": "text/x-python",
   "name": "python",
   "nbconvert_exporter": "python",
   "pygments_lexer": "ipython3",
   "version": "3.11.1"
  }
 },
 "nbformat": 4,
 "nbformat_minor": 5
}
