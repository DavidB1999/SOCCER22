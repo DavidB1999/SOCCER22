{
 "cells": [
  {
   "cell_type": "code",
   "execution_count": null,
   "id": "ef2243e2",
   "metadata": {},
   "outputs": [],
   "source": [
    "import matplotlib.pyplot as plt\n",
    "import numpy as np\n",
    "from scipy import stats\n",
    "import pandas as pd \n",
    "\n",
    "data = pd.read_csv('Results/goal_Count_8.csv', index_col=0)\n",
    "\n",
    "datasets = list(data.columns)\n",
    "x = range(1,9,1)\n",
    "i = 0\n",
    "ds = []\n",
    "ts =[]\n",
    "ps= []\n",
    "for dataset in datasets:\n",
    "    t, p = stats.kendalltau(x, data[dataset], alternative='greater')\n",
    "    print(dataset, t, p)\n",
    "    ds.append(dataset)\n",
    "    ts.append(t)\n",
    "    ps.append(p)\n",
    "    \n",
    "Kendall = pd.DataFrame(list(zip(ds, ts, ps)),\n",
    "               columns =['Name', 'tau', 'p-value'])\n",
    "\n",
    "Kendall.to_csv('Results/Kendall.csv')"
   ]
  },
  {
   "cell_type": "code",
   "execution_count": null,
   "id": "22ba194a",
   "metadata": {},
   "outputs": [],
   "source": []
  }
 ],
 "metadata": {
  "kernelspec": {
   "display_name": "Python 3 (ipykernel)",
   "language": "python",
   "name": "python3"
  },
  "language_info": {
   "codemirror_mode": {
    "name": "ipython",
    "version": 3
   },
   "file_extension": ".py",
   "mimetype": "text/x-python",
   "name": "python",
   "nbconvert_exporter": "python",
   "pygments_lexer": "ipython3",
   "version": "3.11.1"
  }
 },
 "nbformat": 4,
 "nbformat_minor": 5
}
