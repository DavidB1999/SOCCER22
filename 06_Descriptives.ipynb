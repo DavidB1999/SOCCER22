{
 "cells": [
  {
   "cell_type": "code",
   "execution_count": null,
   "id": "7ca56899",
   "metadata": {},
   "outputs": [],
   "source": [
    "import pickle\n",
    "import pandas as pd\n",
    "import numpy as np\n",
    "from statistics import mean, stdev, mode, median\n"
   ]
  },
  {
   "cell_type": "code",
   "execution_count": null,
   "id": "fecb9ef9",
   "metadata": {},
   "outputs": [],
   "source": [
    "with open(\"Pickles/AllDatapoints.pkl\", \"rb\") as cdict:\n",
    "    data = pickle.load(cdict)\n",
    "\n",
    "with open(\"Pickles/Datasets.pkl\", \"rb\") as cdict:\n",
    "    datasets = pickle.load(cdict)\n",
    "    \n",
    "with open(\"Pickles/Minima.pkl\", \"rb\") as cdict:\n",
    "    Minima = pickle.load(cdict)"
   ]
  },
  {
   "cell_type": "markdown",
   "id": "b6d32286",
   "metadata": {},
   "source": [
    "#### Success scores"
   ]
  },
  {
   "cell_type": "code",
   "execution_count": null,
   "id": "91d7b496",
   "metadata": {},
   "outputs": [],
   "source": [
    "success_scores = {}\n",
    "for dataset in datasets:\n",
    "    success_scores[dataset] = []\n",
    "    for frame in range(len(data[dataset])):\n",
    "        success_scores[dataset].append(data[dataset][frame][0])\n"
   ]
  },
  {
   "cell_type": "code",
   "execution_count": null,
   "id": "e129049a",
   "metadata": {},
   "outputs": [],
   "source": [
    "success_scores"
   ]
  },
  {
   "cell_type": "code",
   "execution_count": null,
   "id": "750f6985",
   "metadata": {},
   "outputs": [],
   "source": [
    "\n",
    "descriptives = pd.DataFrame(index= ['Min', 'Max', 'Mean', 'Mode', 'Median', 'SD', 'rel_spread', 'Frequency_0', 'total_length', 'Share_0'])\n",
    "\n",
    "for dataset in datasets:\n",
    "    descriptives[dataset] = np.nan\n",
    "    values = []\n",
    "    values.append(min(success_scores[dataset]))\n",
    "    values.append(max(success_scores[dataset]))\n",
    "    values.append(mean(success_scores[dataset]))\n",
    "    values.append(mode(success_scores[dataset]))\n",
    "    values.append(median(success_scores[dataset]))\n",
    "    values.append(stdev(success_scores[dataset]))\n",
    "    values.append(stdev(success_scores[dataset]) / max(success_scores[dataset]))\n",
    "    values.append(len(np.where(np.array(success_scores[dataset]) == 0)[0]))\n",
    "    values.append(len(success_scores[dataset]))\n",
    "    values.append((len(np.where(np.array(success_scores[dataset]) == 0)[0])/len(success_scores[dataset])))\n",
    "    descriptives[dataset] = values\n",
    "\n",
    "descriptives.to_csv('Results/Descriptives.csv')"
   ]
  },
  {
   "cell_type": "code",
   "execution_count": null,
   "id": "7b60b27b",
   "metadata": {},
   "outputs": [],
   "source": [
    "descriptives"
   ]
  },
  {
   "cell_type": "code",
   "execution_count": null,
   "id": "8d9fdd28",
   "metadata": {},
   "outputs": [],
   "source": [
    "np.where(np.array(success_scores[dataset]) == 0)[0]"
   ]
  },
  {
   "cell_type": "code",
   "execution_count": null,
   "id": "4729979e",
   "metadata": {},
   "outputs": [],
   "source": [
    "len(np.where(np.array(success_scores[dataset]) == 0)[0])"
   ]
  },
  {
   "cell_type": "code",
   "execution_count": null,
   "id": "5d035a15",
   "metadata": {},
   "outputs": [],
   "source": []
  }
 ],
 "metadata": {
  "kernelspec": {
   "display_name": "Python 3 (ipykernel)",
   "language": "python",
   "name": "python3"
  },
  "language_info": {
   "codemirror_mode": {
    "name": "ipython",
    "version": 3
   },
   "file_extension": ".py",
   "mimetype": "text/x-python",
   "name": "python",
   "nbconvert_exporter": "python",
   "pygments_lexer": "ipython3",
   "version": "3.11.1"
  }
 },
 "nbformat": 4,
 "nbformat_minor": 5
}
