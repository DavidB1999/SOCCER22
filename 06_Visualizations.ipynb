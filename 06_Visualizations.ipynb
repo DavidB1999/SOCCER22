{
 "cells": [
  {
   "cell_type": "markdown",
   "id": "cfbfebf0",
   "metadata": {},
   "source": [
    "## Köln vs Wolfsburg"
   ]
  },
  {
   "cell_type": "code",
   "execution_count": null,
   "id": "5e2e018b",
   "metadata": {},
   "outputs": [],
   "source": [
    "import numpy as np\n",
    "import pickle\n",
    "import matplotlib.pyplot as plt\n",
    "from matplotlib.ticker import PercentFormatter\n",
    "from scipy import stats\n",
    "from statistics import mean, stdev"
   ]
  },
  {
   "cell_type": "code",
   "execution_count": null,
   "id": "21dce2ca",
   "metadata": {},
   "outputs": [],
   "source": [
    "# import the scores\n",
    "with open(\"Pickles/wolfsburg_scores.pkl\", \"rb\") as cdict:\n",
    "    wolfsburg_scores = pickle.load(cdict)\n",
    "    \n",
    "with open(\"Pickles/wolfsburg_scores_opp.pkl\", \"rb\") as cdict:\n",
    "    wolfsburg_scores_opp = pickle.load(cdict)\n",
    "    \n",
    "with open(\"Pickles/koeln_scores.pkl\", \"rb\") as cdict:\n",
    "    koeln_scores = pickle.load(cdict)\n",
    "    \n",
    "with open(\"Pickles/koeln_scores_opp.pkl\", \"rb\") as cdict:\n",
    "    koeln_scores_opp = pickle.load(cdict)\n",
    "    \n",
    "# import the datasets\n",
    "with open(\"Pickles/Datasets.pkl\", \"rb\") as l:\n",
    "    datasets = pickle.load(l)\n"
   ]
  },
  {
   "cell_type": "markdown",
   "id": "2450e264",
   "metadata": {},
   "source": [
    "### Köln vs Wolfsburg"
   ]
  },
  {
   "cell_type": "code",
   "execution_count": null,
   "id": "9e8f5f11",
   "metadata": {},
   "outputs": [],
   "source": [
    "# '#4FB39F' & '#b34f63'\n",
    "\n",
    "# '#ecff4c' & '#012210'\n",
    "# '#eb2e00' & '#00BDEB'\n",
    "\n",
    "for dataset in datasets:  # for every dataset (a&i)#\n",
    "    mini = min([min(koeln_scores[dataset]), min(wolfsburg_scores[dataset])])\n",
    "    maxi = max([max(koeln_scores[dataset]), max(wolfsburg_scores[dataset])])\n",
    "\n",
    "    koeln_scores[dataset] = np.array(koeln_scores[dataset])            # list to array\n",
    "    # histogram for Köln' scores, bins = min bis max, weights = for each value in x = 1 / number of values so that the total weight is 1 and we have a percentage histogram\n",
    "    plt.hist(koeln_scores[dataset], bins=np.linspace(mini, maxi, 100), alpha=0.5, label='Köln', weights=np.ones(len(koeln_scores[dataset])) / len(koeln_scores[dataset]), color='#eb2e00')\n",
    "    # histogram for Wolfsbrug on top of the first\n",
    "    plt.hist(wolfsburg_scores[dataset],bins = np.linspace(mini, maxi, 100), alpha=0.5, label='Wolfsburg', weights=np.ones(len(wolfsburg_scores[dataset])) /len(wolfsburg_scores[dataset]), color = '#00BDEB')\n",
    "    plt.gca().yaxis.set_major_formatter(PercentFormatter(1))\n",
    "    plt.legend(loc='upper right')\n",
    "    plt.title(\"Frequency distribution of Success Scores \\n for Vfl Wolfsburg and 1.FC Köln: Dataset \" + dataset)\n",
    "    plt.xlabel(\"Success Score\")\n",
    "    plt.ylabel(\"Frequency\")\n",
    "    plt.savefig(''.join(['Distributionen/','KW_', dataset, '.png']),facecolor =\"w\",\n",
    "            edgecolor ='w', bbox_inches='tight', dpi=500)\n",
    "    plt.show()\n",
    "    i += 1\n",
    "    # bins=np.arange(koeln_scores[dataset].min(), koeln_scores[dataset].max() + 1"
   ]
  },
  {
   "cell_type": "code",
   "execution_count": null,
   "id": "c9cb1318",
   "metadata": {},
   "outputs": [],
   "source": [
    "for dataset in datasets:  # for every dataset (a&i)#\n",
    "    mini = min([min(koeln_scores[dataset]), min(wolfsburg_scores[dataset])])\n",
    "    maxi = max([max(koeln_scores[dataset]), max(wolfsburg_scores[dataset])])\n",
    "\n",
    "    koeln_scores[dataset] = np.array(koeln_scores[dataset])            # list to array\n",
    "    # histogram for Köln' scores, bins = min bis max, weights = for each value in x = 1 / number of values so that the total weight is 1 and we have a percentage histogram\n",
    "    plt.hist(koeln_scores[dataset], bins=np.linspace(mini, maxi, 100), alpha=0.5, label='Köln', weights=np.ones(len(koeln_scores[dataset])) / len(koeln_scores[dataset]), color='#eb2e00')\n",
    "    # histogram for Wolfsbrug on top of the first\n",
    "    plt.hist(wolfsburg_scores[dataset],bins = np.linspace(mini, maxi, 100), alpha=0.5, label='Wolfsburg', weights=np.ones(len(wolfsburg_scores[dataset])) /len(wolfsburg_scores[dataset]), color = '#00BDEB')\n",
    "    plt.gca().yaxis.set_major_formatter(PercentFormatter(1))\n",
    "    plt.legend(loc='upper right')\n",
    "    plt.title(\"Frequency distribution of Success Scores \\n for Vfl Wolfsburg and 1.FC Köln: Dataset \" + dataset)\n",
    "    plt.xlabel(\"Success Score\")\n",
    "    plt.ylabel(\"Frequency\")\n",
    "    plt.ylim(0,0.05)\n",
    "    plt.savefig(''.join(['Distributionen/','KW_', dataset, '_5.png']),facecolor =\"w\",\n",
    "            edgecolor ='w', bbox_inches='tight', dpi=500)\n",
    "    plt.show()"
   ]
  },
  {
   "cell_type": "markdown",
   "id": "4116cb5b",
   "metadata": {},
   "source": [
    "### Köln's opponents vs Wolfsburg's opponents"
   ]
  },
  {
   "cell_type": "code",
   "execution_count": null,
   "id": "988e1625",
   "metadata": {},
   "outputs": [],
   "source": [
    "for dataset in datasets:  # for every dataset (a&i)\n",
    "    mini = min([min(koeln_scores_opp[dataset]), min(wolfsburg_scores_opp[dataset])])\n",
    "    maxi = max([max(koeln_scores_opp[dataset]), max(wolfsburg_scores_opp[dataset])])\n",
    "    koeln_scores_opp[dataset] = np.array(koeln_scores_opp[dataset])            # list to array\n",
    "    # histogram for Köln' scores, bins = min bis max, weights = for each value in x = 1 / number of values so that the total weight is 1 and we have a percentage histogram\n",
    "    plt.hist(koeln_scores_opp[dataset], bins=np.linspace(mini, maxi, 100), alpha=0.5, label=\"Köln's opponents\", weights=np.ones(len(koeln_scores_opp[dataset])) / len(koeln_scores_opp[dataset]), color='#eb2e00')\n",
    "    # histogram for Wolfsbrug on top of the first\n",
    "    plt.hist(wolfsburg_scores_opp[dataset],bins=np.linspace(mini, maxi, 100), alpha=0.5, label=\"Wolfsburg's opponents\", weights=np.ones(len(wolfsburg_scores_opp[dataset])) /len(wolfsburg_scores_opp[dataset]), color = '#00BDEB')\n",
    "    plt.gca().yaxis.set_major_formatter(PercentFormatter(1))\n",
    "    plt.legend(loc='upper right')\n",
    "    plt.title(\"Frequency distribution of Success Scores \\n for the opponents of Vfl Wolfsburg and 1.FC Köln: Dataset \" + dataset)\n",
    "    plt.xlabel(\"Success Score\")\n",
    "    plt.ylabel(\"Frequency\")\n",
    "    plt.savefig(''.join(['Distributionen/','Opp_', dataset, '.png']),facecolor =\"w\",\n",
    "            edgecolor ='w', bbox_inches='tight', dpi=500)\n",
    "    plt.show()\n"
   ]
  },
  {
   "cell_type": "code",
   "execution_count": null,
   "id": "e4bf5f7a",
   "metadata": {},
   "outputs": [],
   "source": [
    "for dataset in datasets:  # for every dataset (a&i)\n",
    "    mini = min([min(koeln_scores_opp[dataset]), min(wolfsburg_scores_opp[dataset])])\n",
    "    maxi = max([max(koeln_scores_opp[dataset]), max(wolfsburg_scores_opp[dataset])])\n",
    "    koeln_scores_opp[dataset] = np.array(koeln_scores_opp[dataset])            # list to array\n",
    "    # histogram for Köln' scores, bins = min bis max, weights = for each value in x = 1 / number of values so that the total weight is 1 and we have a percentage histogram\n",
    "    plt.hist(koeln_scores_opp[dataset], bins=np.linspace(mini, maxi, 100), alpha=0.5, label=\"Köln's opponents\", weights=np.ones(len(koeln_scores_opp[dataset])) / len(koeln_scores_opp[dataset]), color='#eb2e00')\n",
    "    # histogram for Wolfsbrug on top of the first\n",
    "    plt.hist(wolfsburg_scores_opp[dataset],bins=np.linspace(mini, maxi, 100), alpha=0.5, label=\"Wolfsburg's opponents\", weights=np.ones(len(wolfsburg_scores_opp[dataset])) /len(wolfsburg_scores_opp[dataset]), color = '#00BDEB')\n",
    "    plt.gca().yaxis.set_major_formatter(PercentFormatter(1))\n",
    "    plt.legend(loc='upper right')\n",
    "    plt.title(\"Frequency distribution of Success Scores \\n for the opponents of Vfl Wolfsburg and 1.FC Köln: Dataset \" + dataset)\n",
    "    plt.xlabel(\"Success Score\")\n",
    "    plt.ylabel(\"Frequency\")\n",
    "    plt.ylim(0, 0.05)\n",
    "    plt.savefig(''.join(['Distributionen/','Opp_', dataset, '_5.png']),facecolor =\"w\",\n",
    "            edgecolor ='w', bbox_inches='tight', dpi=500)\n",
    "    plt.show()\n"
   ]
  },
  {
   "cell_type": "code",
   "execution_count": null,
   "id": "18130469",
   "metadata": {},
   "outputs": [],
   "source": [
    "with open('Pickles/Korrelation.pkl', 'rb') as cdict:\n",
    "    Korrelation = pickle.load(cdict)\n",
    "\n",
    "help_df = pd.concat([goals_8.head(1), goals_8.tail(1)])\n",
    "\n",
    "fig, axes = plt.subplots(nrows=1, ncols=1)\n",
    "axes.scatter(x= goals_8['Group'], y= goals_8['30m_300s'], c='#005270')\n",
    "axes.plot(goals_8['Group'], goals_8['30m_300s'], c='#005270', linestyle='dotted')\n",
    "#axes.plot(help_df['Group'], help_df['30m_300s'], c= '#ff6600')\n",
    "axes.text(7, 2, \"\".join([\"$r_s$ = \", str(round(Korrelation['30m_300s'][0],2)), \"\\n\", \"p = \", str(round(Korrelation['30m_300s'][1],2)).lstrip('0'), \"*\"]))\n",
    "plt.ylim(0, 12)\n",
    "plt.xlabel(\"Group\")\n",
    "plt.ylabel(\"Number of Goals\")\n",
    "#plt.title('Success Score-Goal-Correlation')\n",
    "#rect = plt.Rectangle(\n",
    "    # (lower-left corner), width, height\n",
    " #   (0, 0), 0.98, 0.98, fill=False, color=\"k\", lw=1, \n",
    "  #  zorder=100, transform=fig.transFigure, figure=fig)\n",
    "#fig.patches.extend([rect])\n",
    "\n",
    "plt.savefig('Korrelation_500dpi.png',facecolor =\"w\",\n",
    "            edgecolor ='w', bbox_inches='tight', dpi=500)\n",
    "    \n",
    "plt.show()"
   ]
  },
  {
   "cell_type": "code",
   "execution_count": null,
   "id": "4f9798ab",
   "metadata": {},
   "outputs": [],
   "source": []
  }
 ],
 "metadata": {
  "kernelspec": {
   "display_name": "soccerauswertung_env",
   "language": "python",
   "name": "soccerauswertung_env"
  },
  "language_info": {
   "codemirror_mode": {
    "name": "ipython",
    "version": 3
   },
   "file_extension": ".py",
   "mimetype": "text/x-python",
   "name": "python",
   "nbconvert_exporter": "python",
   "pygments_lexer": "ipython3",
   "version": "3.11.1"
  }
 },
 "nbformat": 4,
 "nbformat_minor": 5
}
